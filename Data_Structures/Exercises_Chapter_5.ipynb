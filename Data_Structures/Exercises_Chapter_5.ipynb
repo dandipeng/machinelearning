{
 "cells": [
  {
   "cell_type": "markdown",
   "metadata": {},
   "source": [
    "### Problem 1. a) Filp Algorithm:\n",
    "\n",
    "Using the flip function it described, my algorithm follows the following procedure:\n",
    "\n",
    "1) At the begining, find the largest sized pancakes (also the maximum overall) and flip it to the top, then flip it to the bottom;\n",
    "\n",
    "2) __Aside of the last bottom one__, find the next largest sized pancakes for the rest pancakes, flip the next largest one to the top and then flip it to the bottom.\n",
    "\n",
    "For the worst case, when $n$ is the number of pancakes, every pancake in the stack need to be flipped twice expect the last one, for the one before the last one, I only need to flip it once. Therefore, the number of flip in the worst case is $2\\times(n-1)-1$."
   ]
  },
  {
   "cell_type": "code",
   "execution_count": 95,
   "metadata": {},
   "outputs": [],
   "source": [
    "## Problem 1: b)\n",
    "## flip function\n",
    "def flip(alist):\n",
    "    # flip/reverse the list\n",
    "    alist = alist[::-1]\n",
    "    return alist\n",
    "\n",
    "## pancakeSort function\n",
    "def pancakeSort(alist):\n",
    "    flip_times = 0\n",
    "    for i in range(len(alist)-1,0,-1):\n",
    "        current_max = 0\n",
    "        for j in range(i):\n",
    "            if alist[current_max] < alist[j+1]:\n",
    "                current_max = j+1\n",
    "\n",
    "        # in case it is unnecessary to flip over\n",
    "        if current_max != i and current_max != 0:\n",
    "            alist[:] = flip(alist[:current_max+1]) + alist[current_max+1:]\n",
    "            flip_times += 1\n",
    "        if current_max != i:\n",
    "            alist[:] = flip(alist[:i+1]) + alist[i+1:]\n",
    "            flip_times += 1\n",
    "    print(\"The flip times is:\",flip_times)"
   ]
  },
  {
   "cell_type": "code",
   "execution_count": 96,
   "metadata": {},
   "outputs": [
    {
     "name": "stdout",
     "output_type": "stream",
     "text": [
      "The flip times is: 12\n"
     ]
    },
    {
     "data": {
      "text/plain": [
       "[2, 3, 8, 11, 17, 36, 42, 64]"
      ]
     },
     "execution_count": 96,
     "metadata": {},
     "output_type": "execute_result"
    }
   ],
   "source": [
    "alist = [3,17,64,36,42,11,2,8]\n",
    "pancakeSort(alist)\n",
    "alist"
   ]
  },
  {
   "cell_type": "code",
   "execution_count": 75,
   "metadata": {},
   "outputs": [],
   "source": [
    "### Problem 2: Chapter 5 - Programming Exercise 10. bubble sort\n",
    "def bubbleSort(alist):\n",
    "    for i in range(len(alist)-1,0,-1):\n",
    "        for j in range(i):\n",
    "            if alist[j] > alist[j+1]:\n",
    "                # simultaneous assignment\n",
    "                alist[j], alist[j+1] = alist[j+1], alist[j]"
   ]
  },
  {
   "cell_type": "code",
   "execution_count": 76,
   "metadata": {},
   "outputs": [
    {
     "data": {
      "text/plain": [
       "[2, 3, 8, 11, 17, 36, 42, 64]"
      ]
     },
     "execution_count": 76,
     "metadata": {},
     "output_type": "execute_result"
    }
   ],
   "source": [
    "#### check\n",
    "try1 = [3,17,64,36,42,11,2,8]\n",
    "bubbleSort(try1)\n",
    "try1"
   ]
  },
  {
   "cell_type": "code",
   "execution_count": 89,
   "metadata": {},
   "outputs": [],
   "source": [
    "### Problem 3: Chapter 5 - Programming Exercise 14. merge sort\n",
    "def mergeSort(alist):\n",
    "    # First, split the list\n",
    "    if len(alist)>1:\n",
    "        left = 0\n",
    "        right = len(alist)\n",
    "        midpoint = len(alist)//2\n",
    "        lefthalf = []\n",
    "        righthalf = []\n",
    "        for i in range(midpoint):\n",
    "            lefthalf.append(alist[i])\n",
    "            righthalf.append(alist[midpoint+i])\n",
    "        \n",
    "        mergeSort(lefthalf)\n",
    "        mergeSort(righthalf)\n",
    "        \n",
    "        left_index = 0\n",
    "        right_index = 0\n",
    "        final_index = 0\n",
    "        \n",
    "        while left_index < len(lefthalf) and right_index < len(lefthalf):\n",
    "            if lefthalf[left_index] < righthalf[right_index]:\n",
    "                alist[final_index] = lefthalf[left_index]\n",
    "                left_index += 1\n",
    "            else:\n",
    "                alist[final_index] = righthalf[right_index]\n",
    "                right_index += 1\n",
    "            final_index += 1\n",
    "        \n",
    "        while left_index < len(lefthalf):\n",
    "            alist[final_index] = lefthalf[left_index]\n",
    "            left_index += 1\n",
    "            final_index += 1\n",
    "            \n",
    "        while right_index < len(righthalf):\n",
    "            alist[final_index] = righthalf[right_index]\n",
    "            right_index += 1\n",
    "            final_index += 1"
   ]
  },
  {
   "cell_type": "code",
   "execution_count": 90,
   "metadata": {},
   "outputs": [
    {
     "data": {
      "text/plain": [
       "[2, 3, 8, 11, 17, 36, 42, 64]"
      ]
     },
     "execution_count": 90,
     "metadata": {},
     "output_type": "execute_result"
    }
   ],
   "source": [
    "#### check\n",
    "try1 = [3,17,64,36,42,11,2,8]\n",
    "mergeSort(try1)\n",
    "try1"
   ]
  }
 ],
 "metadata": {
  "kernelspec": {
   "display_name": "Python 3",
   "language": "python",
   "name": "python3"
  },
  "language_info": {
   "codemirror_mode": {
    "name": "ipython",
    "version": 3
   },
   "file_extension": ".py",
   "mimetype": "text/x-python",
   "name": "python",
   "nbconvert_exporter": "python",
   "pygments_lexer": "ipython3",
   "version": "3.7.0"
  }
 },
 "nbformat": 4,
 "nbformat_minor": 2
}
