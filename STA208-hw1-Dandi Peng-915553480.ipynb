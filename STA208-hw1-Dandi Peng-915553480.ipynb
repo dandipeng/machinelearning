{
 "cells": [
  {
   "cell_type": "markdown",
   "metadata": {},
   "source": [
    "# STA 208: Homework 1 (Do not distribute)\n",
    "\n",
    "## Due 4/18/2018 in class and online by 10am\n",
    "\n",
    "__Instructions:__ To make grading easier for the TAs please print out your homework and also submit it on canvas.  The canvas should include all of your code either in this notebook file, or a separate python file that is imported and ran in this notebook.  We should be able to open this notebook and run everything here by running the cells in sequence.  The written portions can be either done in markdown and TeX in new cells or written clearly by hand when you hand it in.\n",
    "\n",
    "- Code should be well organized and documented\n",
    "- All math should be clear and make sense sequentially\n",
    "- When in doubt explain what is going on\n",
    "- You will be graded on correctness of your math, code efficiency and succinctness, and conclusions and modelling decisions"
   ]
  },
  {
   "cell_type": "markdown",
   "metadata": {},
   "source": [
    "__Exercise 1__ (20 pts)\n",
    "\n",
    "Consider the binary classification setting where the training data is $x_i \\in \\mathbb R^p, y_i \\in \\{0,1\\}, i=1,\\ldots,n$ and recall the empirical risk (as a function of the predictor $g : \\mathbb R^p \\to \\{0,1\\}$),\n",
    "$$\n",
    "R_n(g) = \\frac 1n \\sum_{i=1}^n \\ell(y_i, g(x_i)),\n",
    "$$\n",
    "and the true risk is \n",
    "$$\n",
    "R(g) = \\mathbb E \\ell(Y,g(X))\n",
    "$$\n",
    "where $X,Y$ are drawn from their joint distribution $f_{X,Y}(x,y)$.\n",
    "\n",
    "1. Suppose that the loss function is the Hamming loss, $\\ell(y,\\hat y) = 1\\{ y \\ne \\hat y\\}$.  What is the predictor that minimizes the True risk?  (Hint: derive an expression for this based on the joint distribution - you can use expressions involving conditional probabilities.)\n",
    "2. The predictor above is called the Bayes rule.  For the Hamming loss, write an expression for the true risk of the Bayes rule, this is the irreducible error.\n",
    "3. Suppose that we know that the Bayes rule can be written in the form, \n",
    "$$\n",
    "h(x) = 1\\{ x_j > 0 \\}, \n",
    "$$\n",
    "for some $j = 1,\\ldots,p$, but we don't know which one.  Now using the empirical risk, what is a reasonable classification algorithm (Hint: you can think of finding a good classifier as a problem of finding $j$).  Describe the fit and predict methods. \n",
    "4. Suppose that I told you that for any fixed $g$ the following probability bound holds (from Hoeffding's inequality)\n",
    "$$\n",
    "\\mathbb P \\left\\{ |R_n(g) - R(g)| > t \\right\\} \\le 2 \\exp \\left( - 2 n t^2 \\right).\n",
    "$$\n",
    "How many samples would I need to get a classifier $\\hat g$, from the previous question, such that \n",
    "$$\n",
    "\\mathbb P \\left\\{ R(\\hat g) < R(h) + 0.1 \\right\\} \\ge 0.95.\n",
    "$$\n",
    "(Hint: use the union bound)"
   ]
  },
  {
   "cell_type": "markdown",
   "metadata": {
    "collapsed": true
   },
   "source": [
    "__Answers:__\n",
    "\n",
    "__1.__\n",
    "  Since $y_i \\in \\{0,1\\}, i=1,\\ldots,n$, $\\ell(y,\\hat y) = 1\\{ y \\ne \\hat y\\}$.\n",
    "  \n",
    "  True Risk:  \n",
    "$R(g) = \\mathbb E [\\ell(Y,g(X))] = \\mathbb E [1\\{ y \\ne g(X)\\} \\times \\mathbb P(y \\ne g(X) | X)+1\\{ y \\ne g(X)\\} \\times \\mathbb P(y = g(X) | X)] \\\\ =\\mathbb E [1\\{ y \\ne g(X)\\}\\mathbb P(y \\ne g(X) | X)] \\\\ =\\mathbb E [\\mathbb P(y \\ne g(X) | X)]$\n",
    "\n",
    "  Therefore, to minimize the True Risk also means to minimize $\\mathbb P(y \\ne g(X) | X)$."
   ]
  },
  {
   "cell_type": "markdown",
   "metadata": {},
   "source": [
    "$g(x)=argmin(\\mathbb P(y \\ne g(X)| X))=argmin(1- \\mathbb P(y = g(X) | X))=argmax(\\mathbb P(y = g(X) | X))$"
   ]
  },
  {
   "cell_type": "markdown",
   "metadata": {},
   "source": [
    "$g(x)= \n",
    "\\begin{cases}\n",
    "    1,& \\text{if } \\mathbb P(y = 1 | X)>\\mathbb P(y = 0 | X)\\\\\n",
    "    0,              & \\text{if } \\mathbb P(y = 1 | X)\\leq \\mathbb P(y = 0 | X)\n",
    "\\end{cases}$"
   ]
  },
  {
   "cell_type": "markdown",
   "metadata": {},
   "source": [
    "__2.__\n",
    "\n",
    "$\\mathbb E [R(g)] = \\mathbb E\\{\\mathbb E [\\ell(Y,g(X))]\\} = \\mathbb E\\{\\mathbb E [1\\{ y \\ne g(X)\\} \\times \\mathbb P(y \\ne g(X) | X)+1\\{ y \\ne g(X)\\} \\times \\mathbb P(y = g(X) | X)]\\} \\\\ =\\mathbb E\\{\\mathbb E [1\\{ y \\ne g(X)\\}\\mathbb P(y \\ne g(X) | X)]\\} \\\\ =\\mathbb E\\{\\mathbb E [\\mathbb P(y \\ne g(X) | X)]\\} \\\\ = \\mathbb E [\\mathbb P(y \\ne g(X) )]$"
   ]
  },
  {
   "cell_type": "markdown",
   "metadata": {},
   "source": [
    "__3.__\n",
    "\n",
    "The fit method is the following:\n",
    "\n",
    "for $j = 1,2, ..., p$:\n",
    ">for $i = 1,2, ..., n$:\n",
    "\n",
    ">> $e_i = y_i-\\hat{y_i}$  ($\\hat{y_i}=1\\{ x_{ij} > 0 \\}$)\n",
    "\n",
    "> $R_j = \\frac{1}{n}{\\displaystyle \\sum_{i=1}^{n}e_i^2}$\n",
    "\n",
    "Then chose $\\hat{j} = argmin(R_j)$ , we can get $h(x)=1\\{x_{\\hat{j}}>0\\}$ as a classifier.\n",
    "\n",
    "The predict method:\n",
    "\n",
    "After getting the classifier $h(x)$ from the fitting method, for a new $x^*$, calculate $h(x^*) = 1\\{{x_j}^*>0\\}$ to get the prediction value."
   ]
  },
  {
   "cell_type": "markdown",
   "metadata": {},
   "source": [
    "__4.__\n",
    "\n",
    "Please check the last page of hw1."
   ]
  },
  {
   "cell_type": "markdown",
   "metadata": {},
   "source": [
    "__Exercise 2__ (20 pts)\n",
    "\n",
    "Consider the regression setting in which $x_i \\in \\mathbb R^p$ and $y_i \\in \\mathbb R$, for $i=1,\\ldots,n$ and $p < n$.\n",
    "\n",
    "1. For a given regressor, let $\\hat y_i$ be prediction given $x_i$, and $\\hat y$ be the vector form.  Show that both linear regression and k-nearest neighbors can be written in the form\n",
    "$$\n",
    "\\hat y = H y,\n",
    "$$\n",
    "where $H$ is dependent on $X$ (the matrix of where each row is $x_i$).  Give a clear expression for $H$.\n",
    "2. By modifying the matrix $H$, how can we ensure that a given sample is not used as a k nearest neighbor.  Derive an expression for the leave-one-out cross validated square error based on this.\n",
    "3. For linear regression, let $X = U D V^\\top$ be the singular value decomposition where $U$ is $n \\times p$, and $V, D$ is $p \\times p$ ($D$ is diagonal). Derive an expression for the OLS coefficients $\\beta = A b$ such that $A$ is $p \\times p$ and depends on $V$ and $D$, and $b$ is a $p$ vector and does not depend on $D$.  Describe a fit method that precomputes these quantities separately, and describe a predict method.\n",
    "4. Consider a regressor that performs OLS using the SVD above, but every instance of D will only use the largest $r$ values on the diagonal (all others are set to 0).  Call this new matrix $D_r$ ($r < p$).  Given that you have computed $b$ already, how could you make a method `change_rank` that recomputes $A$ with $D_r$ instead of $D$?  What is its computational complexity (it should not depend on n)?"
   ]
  },
  {
   "cell_type": "markdown",
   "metadata": {},
   "source": [
    "__Answers:__\n",
    "\n",
    "__1.__\n",
    "For linear regression in matrix:\n",
    "\n",
    "$Y =X\\beta+\\varepsilon$, to derive the OLS regression, $Q = argmin[(Y=X-\\beta)^\\top(Y-X\\beta)]=Y^\\top Y=2X^\\top Y\\beta+\\beta^\\top X^\\top X\\beta$.\n",
    "\n",
    "$\\frac{\\partial Q}{\\partial \\beta}=-2X^\\top Y +2X^\\top X\\beta = 0$, which means $X^\\top X\\beta=X^\\top Y$.\n",
    "\n",
    "$\\hat{\\beta} = (X^\\top X)^{-1}X^\\top Y$\n",
    "\n",
    "$\\hat{Y} = X\\hat{\\beta} = X(X^\\top X)^{-1}X^\\top Y = H_lY$, where $H_l = X(X^\\top X)^{-1}X^\\top$\n",
    "\n",
    "For KNN regression:\n",
    "\n",
    "Take $\\hat{y_i}$ as an example, it can be denoted in the matrix form as $\\hat{y_i} = \\frac{1}{k} \\begin{bmatrix} 0&1&1&.....&0&1&....&1\\end{bmatrix} \\begin{bmatrix} y_1\\\\y_2\\\\.\\\\.\\\\.\\\\.\\\\y_n\\end{bmatrix}=H_i Y$, where $H_i$ is the $i_{th}$ row of $H_K$, and for elements in $H_i$, the $j_{th}$ element $=1$ if $X_j \\in \\{X_m\\}_{m=1}^k$, $\\{X_m\\}_{m=1}^k$ are k-nearest neighbors of $X_i$, and the $j_{th}$ element $=0$ otherwise.\n",
    "\n",
    "Therefore, $H_K$ is a $n\\times n$ matrix which looks like $\\frac{1}{k} \\begin{bmatrix} 0&1&1&.....&0&1&....&1\\\\1&0&0&.....&0&1&....&0\\\\.&.&.&.....&.&.&....&.\\\\.&.&.&.....&.&.&....&.\\\\.&.&.&.....&.&.&....&.\\\\0&0&1&.....&1&0&....&1\\end{bmatrix}$. For each row, there are $k$ of $1$ and $(n-k)$ of $0$."
   ]
  },
  {
   "cell_type": "markdown",
   "metadata": {},
   "source": [
    "__2.__\n",
    "\n",
    "For the given $i_{th}$ sample that is not used as a $k$ nearest neighbor, you can set the $i_{th}$ column in $H$ matrix fixed to all be $0$.\n",
    "\n",
    "The leave-one-out cross validation is the following:\n",
    "\n",
    "$H_{Ki}$ ($i = 1,2,...,n$) are $n\\times n$ matrices.\n",
    "\n",
    "for $i = 1, 2, ..., n$:\n",
    "\n",
    "> elements in $i_{th}$ column of $H_{Ki}$ fixed to be $0$;\n",
    "\n",
    "> get $H_{Ki}$ by getting the $k$ nearest neighbor among all $X$ (except $X_j$ itself and the not used sampe $X_i$) of each $X_j$ $(j = 1,2,...,i-1,i+1,..,n)$ aside of $X_i$.\n",
    "\n",
    "> get the square error $e_i$ which is the difference between the fitted value using $H_{Ki}$ and the observed value $Y$.\n",
    "\n",
    "Sum all the $e_i^2$ to get the leave-one-out cross validated square error $SE = {\\displaystyle \\sum_{i=1}^{n}e_i^2}$ ,  where \n",
    "$e_i^2 = \\frac{1}{n-1}{||H_{Ki}Y-I_iY||^2}$, where the $i_{th}$ diagonal element of $I_i$ is $0$ (i.e. $I_i[i,i] = 0$)."
   ]
  },
  {
   "cell_type": "markdown",
   "metadata": {},
   "source": [
    "__3.__\n",
    "\n",
    "The fitting method:\n",
    "\n",
    "As $X=UDV^\\top$, then $\\beta = (X^\\top X)^{-1}X^\\top Y$, where $X^\\top X = VD^\\top U^\\top UDV^\\top$, as $U$ is orthonormal, then $U^\\top U = I$, $X^\\top X = VD^\\top DV^\\top$, $(X^\\top X)^{-1} = (V^\\top)^{-1}D^{-2}V^{-1}$ since $D$ is diagonal ($D^\\top D = D^{2}$) and $V$ is orthonormal ($V^\\top =V^{-1}$).\n",
    "\n",
    "Therefore, we can derive that $\\beta = (X^\\top X)^{-1}X^\\top Y = VD^{-2}V^{-1}VDU^\\top Y = VD^{-1}U^\\top Y = Ab$. \n",
    "\n",
    "According to the question, we can define $A=VD^{-1}$ and $b=U^\\top Y$.\n",
    "\n",
    "The preficting method:\n",
    "\n",
    "With a new data $X^*$, $\\hat{Y}^* = X^*\\beta$, where $\\beta$ is derived from the fitting method."
   ]
  },
  {
   "cell_type": "markdown",
   "metadata": {},
   "source": [
    "__4.__\n",
    "\n",
    "Given $b$ has been computed already, we can first derive original $V$ and $D$ from $X$, then we can get the $D^{-1}$, through keeping the first $r$ smallest diagonal values of $D^{-1}$ and set the rest to be $0$ to get a new $D_r^{-1}$. Also keep the $p$ rows and first $r$ columns of $V$ and set the rest to be $0$ to get the new $V_{pr}$. Then we can get the new $A = V_{pr} D_r^{-1}$. Its computational complexity is $pr+r$."
   ]
  },
  {
   "cell_type": "markdown",
   "metadata": {},
   "source": [
    "__Exercise 3__ (30 pts)\n",
    "\n",
    "We call the method that zeros out all but $r$ singular values in OLS, singular value regression.  Implement the singular value regressor as a sklearn style class below.  Test it by simulating the training and test data from the `gen_LR_data` function below and calculate the average square error on the test set.  Do this for each choice of `r` in the fit function."
   ]
  },
  {
   "cell_type": "code",
   "execution_count": 1,
   "metadata": {
    "collapsed": true
   },
   "outputs": [],
   "source": [
    "import numpy as np\n",
    "from numpy.linalg import inv\n",
    "#from scipy.linalg import svd"
   ]
  },
  {
   "cell_type": "code",
   "execution_count": 87,
   "metadata": {
    "collapsed": true
   },
   "outputs": [],
   "source": [
    "class SingularValueRegressor:\n",
    "    \"\"\"\n",
    "    : A regression object that uses the SVD to fit and predict\n",
    "    : Init: specify rank r\n",
    "    : .fit: solve the SVD of X and precompute beta\n",
    "    : .predict: Return y hat for X_test\n",
    "    \"\"\"\n",
    "    \n",
    "    def __init__(self, r):\n",
    "        \"\"\"\n",
    "        : Store the rank\n",
    "        \"\"\"\n",
    "        self.r = r\n",
    "        \n",
    "    def fit(self,X,y):\n",
    "        \"\"\"\n",
    "        : Computes and stores the SVD (use scipy.linalg.svd)\n",
    "        : Computes beta for rank r singular value regression\n",
    "        \"\"\"\n",
    "        u, d, vt = np.linalg.svd(X)\n",
    "        v=vt.T\n",
    "        self.d = d\n",
    "        self.n = len(u)\n",
    "        self.p = len(v)\n",
    "        self.v = v\n",
    "        self.u = u\n",
    "        self.y = y\n",
    "    \n",
    "        A=np.matmul(self.v[:,:self.r],np.diag(1/(self.d[:self.r])))  # get A matrix\n",
    "        self.b=np.matmul(self.u.T[:self.r,:],y)    # get b vector\n",
    "        self.beta = np.matmul(A,self.b)\n",
    "        y_hat = np.matmul(X,self.beta)  # get the fit y_hat\n",
    "        return y_hat\n",
    "        \n",
    "    def predict(self, X_test):\n",
    "        \"\"\"\n",
    "        : Outputs the predicted y given the predictors X_test\n",
    "        \"\"\"\n",
    "        y_predict = np.matmul(X_test,self.beta)\n",
    "        return y_predict\n",
    "        \n",
    "    def change_rank(self,r):\n",
    "        \"\"\"\n",
    "        : Assumes that the SVD has been computed and uses it to change the rank; after\n",
    "        : running the new regressor object should be as if we fit with the new rank r\n",
    "        \"\"\"\n",
    "        self.r = r\n",
    "        A=np.matmul(self.v[:,:self.r],np.diag(1/(self.d[:self.r])))  # get A matrix\n",
    "        self.b=np.matmul(self.u.T[:self.r,:],self.y)    # get b vector\n",
    "        self.beta = np.matmul(A,self.b)\n",
    "        self.beta = np.matmul(A,self.b)"
   ]
  },
  {
   "cell_type": "code",
   "execution_count": 78,
   "metadata": {
    "collapsed": true
   },
   "outputs": [],
   "source": [
    "def gen_LR_data(r = 10, p = 20, n = 100):\n",
    "    \"\"\"\n",
    "    : generate data from an approx low rank regression model\n",
    "    \"\"\"\n",
    "    alpha = np.random.chisquare(1,size = (p,r)) #X coefficients\n",
    "    Z = np.random.normal(size=(n,r)) #X covariates\n",
    "    beta = np.random.normal(size = r) #reg covs\n",
    "    mu = Z @ beta #hidden mean\n",
    "    Xmean = Z @ alpha.T #random transformation of Z\n",
    "    X = Xmean + np.random.normal(0,.5,size=(n,p)) #add noise - not exactly low rank\n",
    "    X_test = Xmean + np.random.normal(0,.5,size=(n,p))\n",
    "    y = mu + np.random.normal(0,1,size=(n))\n",
    "    y_test = mu + np.random.normal(0,1,size=(n))\n",
    "    return (X,y,X_test,y_test)"
   ]
  },
  {
   "cell_type": "code",
   "execution_count": 203,
   "metadata": {
    "collapsed": true
   },
   "outputs": [],
   "source": [
    "X,y,X_test,y_test = gen_LR_data()"
   ]
  },
  {
   "cell_type": "code",
   "execution_count": 184,
   "metadata": {},
   "outputs": [
    {
     "data": {
      "text/plain": [
       "{1: 15.12576131284448,\n",
       " 2: 12.558820233366562,\n",
       " 3: 10.026706428467124,\n",
       " 4: 9.920147766622703,\n",
       " 5: 9.605877384468624,\n",
       " 6: 6.955384375376483,\n",
       " 7: 5.648627212837235,\n",
       " 8: 3.1528407151380486,\n",
       " 9: 2.6352097714476685,\n",
       " 10: 1.3133946709052358,\n",
       " 11: 1.3130880503173312,\n",
       " 12: 1.3215043413977725,\n",
       " 13: 1.3096612648077914,\n",
       " 14: 1.3024242793915664,\n",
       " 15: 1.2980325097960586,\n",
       " 16: 1.2528329275973484,\n",
       " 17: 1.249710340510545,\n",
       " 18: 1.2572608846136426,\n",
       " 19: 1.2576456477082194,\n",
       " 20: 1.4512997625592217}"
      ]
     },
     "execution_count": 184,
     "metadata": {},
     "output_type": "execute_result"
    }
   ],
   "source": [
    "r=SingularValueRegressor(20)\n",
    "r.fit(X,y)\n",
    "mse = {20:np.average((y_test-r.predict(X_test))**2)}\n",
    "for i in range(19,0,-1):\n",
    "    r.change_rank(i)\n",
    "    mse[i] = np.average((y_test-r.predict(X_test))**2)\n",
    "\n",
    "mse"
   ]
  },
  {
   "cell_type": "markdown",
   "metadata": {},
   "source": [
    "__Conclusion:__\n",
    "\n",
    "The average square error on the test set for all possible $r$ is shown above.\n",
    "\n",
    "Obviously, as the $r$ increasing, the average square error decreases since less information is lost."
   ]
  },
  {
   "cell_type": "markdown",
   "metadata": {},
   "source": [
    "__Exercise 4__ (30 pts)\n",
    "\n",
    "The dataset in the hw1 directory has a Y variable, 7 predictor variables (X1 - X7).  Using sklearn and the class that you constructed above, compare ridge regression, OLS, kNN, and SVRegression.  Compare and tune the methods using appropriate cross validation.  Comment on the tuning of each parameter in ridge, kNN, and SVRegression in markdown.  Be sure to standardize the X variables first and decide how to deal with NAs.  Feel free to use the LOO method from lab 1."
   ]
  },
  {
   "cell_type": "code",
   "execution_count": 41,
   "metadata": {
    "collapsed": true
   },
   "outputs": [],
   "source": [
    "import pandas as pd"
   ]
  },
  {
   "cell_type": "code",
   "execution_count": 185,
   "metadata": {},
   "outputs": [
    {
     "data": {
      "text/html": [
       "<div>\n",
       "<style scoped>\n",
       "    .dataframe tbody tr th:only-of-type {\n",
       "        vertical-align: middle;\n",
       "    }\n",
       "\n",
       "    .dataframe tbody tr th {\n",
       "        vertical-align: top;\n",
       "    }\n",
       "\n",
       "    .dataframe thead th {\n",
       "        text-align: right;\n",
       "    }\n",
       "</style>\n",
       "<table border=\"1\" class=\"dataframe\">\n",
       "  <thead>\n",
       "    <tr style=\"text-align: right;\">\n",
       "      <th></th>\n",
       "      <th>Y</th>\n",
       "      <th>X1</th>\n",
       "      <th>X2</th>\n",
       "      <th>X3</th>\n",
       "      <th>X4</th>\n",
       "      <th>X5</th>\n",
       "      <th>X6</th>\n",
       "      <th>X7</th>\n",
       "    </tr>\n",
       "  </thead>\n",
       "  <tbody>\n",
       "    <tr>\n",
       "      <th>0</th>\n",
       "      <td>18.0</td>\n",
       "      <td>8.0</td>\n",
       "      <td>307.0</td>\n",
       "      <td>130.0</td>\n",
       "      <td>3504.0</td>\n",
       "      <td>12.0</td>\n",
       "      <td>70.0</td>\n",
       "      <td>1.0</td>\n",
       "    </tr>\n",
       "    <tr>\n",
       "      <th>1</th>\n",
       "      <td>15.0</td>\n",
       "      <td>8.0</td>\n",
       "      <td>350.0</td>\n",
       "      <td>165.0</td>\n",
       "      <td>3693.0</td>\n",
       "      <td>11.5</td>\n",
       "      <td>70.0</td>\n",
       "      <td>1.0</td>\n",
       "    </tr>\n",
       "    <tr>\n",
       "      <th>2</th>\n",
       "      <td>18.0</td>\n",
       "      <td>8.0</td>\n",
       "      <td>318.0</td>\n",
       "      <td>150.0</td>\n",
       "      <td>3436.0</td>\n",
       "      <td>11.0</td>\n",
       "      <td>70.0</td>\n",
       "      <td>1.0</td>\n",
       "    </tr>\n",
       "    <tr>\n",
       "      <th>3</th>\n",
       "      <td>16.0</td>\n",
       "      <td>8.0</td>\n",
       "      <td>304.0</td>\n",
       "      <td>150.0</td>\n",
       "      <td>3433.0</td>\n",
       "      <td>12.0</td>\n",
       "      <td>70.0</td>\n",
       "      <td>1.0</td>\n",
       "    </tr>\n",
       "    <tr>\n",
       "      <th>4</th>\n",
       "      <td>17.0</td>\n",
       "      <td>8.0</td>\n",
       "      <td>302.0</td>\n",
       "      <td>140.0</td>\n",
       "      <td>3449.0</td>\n",
       "      <td>10.5</td>\n",
       "      <td>70.0</td>\n",
       "      <td>1.0</td>\n",
       "    </tr>\n",
       "  </tbody>\n",
       "</table>\n",
       "</div>"
      ],
      "text/plain": [
       "      Y   X1     X2     X3      X4    X5    X6   X7\n",
       "0  18.0  8.0  307.0  130.0  3504.0  12.0  70.0  1.0\n",
       "1  15.0  8.0  350.0  165.0  3693.0  11.5  70.0  1.0\n",
       "2  18.0  8.0  318.0  150.0  3436.0  11.0  70.0  1.0\n",
       "3  16.0  8.0  304.0  150.0  3433.0  12.0  70.0  1.0\n",
       "4  17.0  8.0  302.0  140.0  3449.0  10.5  70.0  1.0"
      ]
     },
     "execution_count": 185,
     "metadata": {},
     "output_type": "execute_result"
    }
   ],
   "source": [
    "data_mat = pd.read_csv('hw1_data.csv')\n",
    "data_mat.head()"
   ]
  },
  {
   "cell_type": "markdown",
   "metadata": {},
   "source": [
    "I decide to drop NA directly."
   ]
  },
  {
   "cell_type": "code",
   "execution_count": 186,
   "metadata": {
    "collapsed": true
   },
   "outputs": [],
   "source": [
    "data_mat = data_mat.dropna()\n",
    "X_data = data_mat.iloc[:,1:]"
   ]
  },
  {
   "cell_type": "code",
   "execution_count": 187,
   "metadata": {
    "collapsed": true
   },
   "outputs": [],
   "source": [
    "from sklearn.model_selection import LeaveOneOut\n",
    "from sklearn import linear_model, neighbors\n",
    "from sklearn.linear_model import Ridge, RidgeCV\n",
    "\n",
    "import matplotlib.pyplot as plt\n",
    "\n",
    "from sklearn.preprocessing import scale \n",
    "from sklearn.decomposition import PCA\n",
    "from sklearn.metrics import mean_squared_error\n",
    "\n",
    "%matplotlib inline\n",
    "plt.style.use('ggplot')"
   ]
  },
  {
   "cell_type": "code",
   "execution_count": 188,
   "metadata": {
    "collapsed": true
   },
   "outputs": [],
   "source": [
    "def loo_risk(X,y,regmod):\n",
    "    \"\"\"\n",
    "    Construct the leave-one-out square error risk for a regression model\n",
    "    \n",
    "    Input: design matrix, X, response vector, y, a regression model, regmod\n",
    "    Output: scalar LOO risk\n",
    "    \"\"\"\n",
    "    loo = LeaveOneOut()\n",
    "    loo.get_n_splits(X)\n",
    "    loo_losses = []\n",
    "    for train_index, test_index in loo.split(X):\n",
    "        X_train, X_test = X[train_index], X[test_index]\n",
    "        y_train, y_test = y[train_index], y[test_index]\n",
    "        regmod.fit(X_train,y_train)\n",
    "        y_hat = regmod.predict(X_test)\n",
    "        loss = np.sum((y_hat - y_test)**2)\n",
    "        loo_losses.append(loss)\n",
    "    return np.mean(loo_losses)\n",
    "\n",
    "def emp_risk(X,y,regmod):\n",
    "    \"\"\"\n",
    "    Return the empirical risk for square error loss\n",
    "    \n",
    "    Input: design matrix, X, response vector, y, a regression model, regmod\n",
    "    Output: scalar empirical risk\n",
    "    \"\"\"\n",
    "    regmod.fit(X,y)\n",
    "    y_hat = regmod.predict(X)\n",
    "    return np.mean((y_hat - y)**2)"
   ]
  },
  {
   "cell_type": "code",
   "execution_count": 208,
   "metadata": {
    "collapsed": true
   },
   "outputs": [],
   "source": [
    "# Ridge Regression\n",
    "alphas = np.linspace(30,1,100)\n",
    "rcv = RidgeCV(alphas = alphas, store_cv_values=True)\n",
    "rcv.fit(Xsc,y)\n",
    "cv_vals = rcv.cv_values_\n",
    "LOOr = cv_vals.mean(axis=0)"
   ]
  },
  {
   "cell_type": "code",
   "execution_count": 222,
   "metadata": {},
   "outputs": [
    {
     "name": "stdout",
     "output_type": "stream",
     "text": [
      "lambda of the smallest LOO risk is 1.878787878787879\n",
      "The smallest LOO risk is 11.35932440981971\n"
     ]
    }
   ],
   "source": [
    "print(\"lambda of the smallest LOO risk is\",rcv.alpha_)\n",
    "print(\"The smallest LOO risk is\", min(LOOr))"
   ]
  },
  {
   "cell_type": "code",
   "execution_count": 209,
   "metadata": {},
   "outputs": [],
   "source": [
    "ridge = Ridge()\n",
    "EMPr = []\n",
    "for a in alphas:\n",
    "    ridge.set_params(alpha=a)\n",
    "    ridge.fit(Xsc, y)\n",
    "    EMPr.append(emp_risk(Xsc,y,ridge))"
   ]
  },
  {
   "cell_type": "code",
   "execution_count": 220,
   "metadata": {
    "scrolled": true
   },
   "outputs": [
    {
     "data": {
      "image/png": "[encoded data removed]",
      "text/plain": [
       "<matplotlib.figure.Figure at 0x2c33623c198>"
      ]
     },
     "metadata": {},
     "output_type": "display_data"
    }
   ],
   "source": [
    "plt.plot(alphas,LOOr, label = 'LOO Risk')\n",
    "plt.plot(alphas,EMPr, label = 'EMPr Risk')\n",
    "plt.xlabel('lambda')\n",
    "plt.ylabel('Risk')\n",
    "plt.title('LOO&EMPr Risk for Ridge');\n",
    "plt.legend()\n",
    "plt.show()"
   ]
  },
  {
   "cell_type": "markdown",
   "metadata": {},
   "source": [
    "__Ridge Regression:__\n",
    "\n",
    "From the above graph, the LOO risk and the EMPr Risk are both moderately increasing as the $\\lambda$ increasing. \n",
    "\n",
    "When $\\lambda = 1.878787878787879$, we are able to get the smallest LOO Risk $11.35932440981971$."
   ]
  },
  {
   "cell_type": "code",
   "execution_count": 223,
   "metadata": {},
   "outputs": [
    {
     "name": "stdout",
     "output_type": "stream",
     "text": [
      "Without intercept,\n",
      "LOO Risk: 581.8425227089203\n",
      "Emp Risk: 560.5585690332971\n"
     ]
    }
   ],
   "source": [
    "# OLS Regression\n",
    "lin1 = linear_model.LinearRegression(fit_intercept=False)\n",
    "Xsc = scale(X_data)\n",
    "y = np.array(data_mat['Y'])\n",
    "print('Without intercept,')\n",
    "print('LOO Risk: '+ str(loo_risk(Xsc,y,lin1)))\n",
    "print('Emp Risk: ' + str(emp_risk(Xsc,y,lin1)))"
   ]
  },
  {
   "cell_type": "code",
   "execution_count": 224,
   "metadata": {},
   "outputs": [
    {
     "name": "stdout",
     "output_type": "stream",
     "text": [
      "With intercept,\n",
      "LOO Risk: 11.371126332686615\n",
      "Emp Risk: 10.847480945000452\n"
     ]
    }
   ],
   "source": [
    "lin1 = linear_model.LinearRegression(fit_intercept=True)\n",
    "Xsc = scale(X_data)\n",
    "y = np.array(data_mat['Y'])\n",
    "print('With intercept,')\n",
    "print('LOO Risk: '+ str(loo_risk(Xsc,y,lin1)))\n",
    "print('Emp Risk: ' + str(emp_risk(Xsc,y,lin1)))"
   ]
  },
  {
   "cell_type": "markdown",
   "metadata": {},
   "source": [
    "__OLS Regression:__\n",
    "\n",
    "Without intercept, the LOO Risk and the EMP Risk are both very large compared with Risks of other regressions.\n",
    "\n",
    "With intercept, the output is highly improved. Also we can find out that the difference between these two risks are not very much, which states that _OLS regression_ is an adequate regression in this case."
   ]
  },
  {
   "cell_type": "code",
   "execution_count": 226,
   "metadata": {},
   "outputs": [
    {
     "data": {
      "image/png": "[encoded data removed]",
      "text/plain": [
       "<matplotlib.figure.Figure at 0x2c335f72dd8>"
      ]
     },
     "metadata": {},
     "output_type": "display_data"
    }
   ],
   "source": [
    "# KNN Regression\n",
    "LOOs = []\n",
    "MSEs = []\n",
    "K=30\n",
    "Ks = range(1,K+1)\n",
    "for k in Ks:\n",
    "    knn = neighbors.KNeighborsRegressor(n_neighbors=k)\n",
    "    LOOs.append(loo_risk(Xsc,y,knn))\n",
    "    MSEs.append(emp_risk(Xsc,y,knn))\n",
    "\n",
    "plt.plot(Ks,LOOs,'r',label=\"LOO risk\")\n",
    "plt.title(\"Risks for kNN Regression\")\n",
    "plt.plot(Ks,MSEs,'b',label=\"Emp risk\")\n",
    "plt.legend()\n",
    "_ = plt.xlabel('k')"
   ]
  },
  {
   "cell_type": "code",
   "execution_count": 231,
   "metadata": {},
   "outputs": [
    {
     "name": "stdout",
     "output_type": "stream",
     "text": [
      "We are able to get the smallest LOO risk when k = 5\n",
      "The smallest LOO risk in KNN regression is: 8.384319387755102\n"
     ]
    }
   ],
   "source": [
    "print(\"We are able to get the smallest LOO risk when k =\",np.argmin(LOOs)+1)\n",
    "print(\"The smallest LOO risk in KNN regression is:\",min(LOOs))"
   ]
  },
  {
   "cell_type": "markdown",
   "metadata": {},
   "source": [
    "__KNN Regression:__\n",
    "\n",
    "From the above graph, the LOO risk first decreases to its minimum value $8.384319387755102$ when $k=5$, after the minimum point, it starts to slowly increase. The Emp risk is keeping increasing as k becomes large, and it sharply increases at the beginning, after $k=5$, the increasing trend becomes moderate and the difference between LOO risk and Emp Risk becomes smaller with the increasing $k$.\n",
    "\n",
    "Comparing the LOO risk of KNN Regression with that of other regressions, KNN gives us the smallest LOO risk."
   ]
  },
  {
   "cell_type": "code",
   "execution_count": 232,
   "metadata": {
    "collapsed": true
   },
   "outputs": [],
   "source": [
    "# SVRegression\n",
    "LOOs = []\n",
    "MSEs = []\n",
    "P=7\n",
    "Ps = range(1,P+1)\n",
    "for p in Ps:\n",
    "    SVD = SingularValueRegressor(p)\n",
    "    LOOs.append(loo_risk(Xsc,y,SVD))\n",
    "    MSEs.append(emp_risk(Xsc,y,SVD))"
   ]
  },
  {
   "cell_type": "code",
   "execution_count": 234,
   "metadata": {},
   "outputs": [
    {
     "data": {
      "image/png": "[encoded data removed]",
      "text/plain": [
       "<matplotlib.figure.Figure at 0x2c335e45358>"
      ]
     },
     "metadata": {},
     "output_type": "display_data"
    }
   ],
   "source": [
    "plt.plot(Ps,LOOs,'r',label=\"LOO risk\")\n",
    "plt.title(\"Risks for SVRegression\")\n",
    "plt.plot(Ps,MSEs,'b',label=\"Emp risk\")\n",
    "plt.legend()\n",
    "_ = plt.xlabel('k')"
   ]
  },
  {
   "cell_type": "code",
   "execution_count": 233,
   "metadata": {},
   "outputs": [
    {
     "name": "stdout",
     "output_type": "stream",
     "text": [
      "We are able to get the smallest LOO risk when r = 1\n",
      "The smallest LOO risk in SVRegression is: 569.9617303128016\n"
     ]
    }
   ],
   "source": [
    "print(\"We are able to get the smallest LOO risk when r =\",np.argmin(LOOs)+1)\n",
    "print(\"The smallest LOO risk in SVRegression is:\",min(LOOs))"
   ]
  },
  {
   "cell_type": "markdown",
   "metadata": {},
   "source": [
    "__SVRegression:__\n",
    "\n",
    "From the above graph, apparently when $r = 1$, we are able to get the smallest LOO risk which is $569.9617303128016$. Then the LOO risk increases a little and decreases a little, then from $r=3$, the LOO risk keeps increasing. For EMP risk, as the $r$ increasing, it keeps decreasing.\n",
    "\n",
    "However, both the LOO Risk and the EMP Risk of SVRegression are much larger than those of other regressions."
   ]
  }
 ],
 "metadata": {
  "kernelspec": {
   "display_name": "Python 3",
   "language": "python",
   "name": "python3"
  },
  "language_info": {
   "codemirror_mode": {
    "name": "ipython",
    "version": 3
   },
   "file_extension": ".py",
   "mimetype": "text/x-python",
   "name": "python",
   "nbconvert_exporter": "python",
   "pygments_lexer": "ipython3",
   "version": "3.6.5"
  }
 },
 "nbformat": 4,
 "nbformat_minor": 2
}
