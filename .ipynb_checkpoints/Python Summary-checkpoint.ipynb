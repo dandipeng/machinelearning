{
 "cells": [
  {
   "cell_type": "code",
   "execution_count": 2,
   "metadata": {},
   "outputs": [],
   "source": [
    "import os\n",
    "import pandas as pd\n",
    "import numpy as np\n",
    "from numpy.linalg import inv\n",
    "\n",
    "%matplotlib inline    \n",
    "import matplotlib.pyplot as plt\n",
    "import seaborn as sns"
   ]
  },
  {
   "cell_type": "code",
   "execution_count": 3,
   "metadata": {},
   "outputs": [
    {
     "data": {
      "text/plain": [
       "'/Users/dandipeng/Documents/Programming/machinelearning'"
      ]
     },
     "execution_count": 3,
     "metadata": {},
     "output_type": "execute_result"
    }
   ],
   "source": [
    "os.getcwd()"
   ]
  },
  {
   "cell_type": "code",
   "execution_count": 6,
   "metadata": {},
   "outputs": [],
   "source": [
    "# different ways to read data\n",
    "os.chdir(os.getcwd()+'/Practice')\n",
    "meta = pd.read_csv('ecs171.dataset.txt', sep = \"\\s+\", header= 0)\n",
    "\n",
    "cars = pd.read_csv('auto-mpg.data.txt', sep = \"\\s+\", header= None, \n",
    "                   names = [\"mpg\", \"cylinders\", \"displacement\", \"horsepower\", \"weight\", \n",
    "                            \"acceleration\", \"model_year\", \"origin\", \"car_name\"])"
   ]
  },
  {
   "cell_type": "code",
   "execution_count": 11,
   "metadata": {},
   "outputs": [],
   "source": [
    "# convert the \"?\" to Nan\n",
    "cars[\"horsepower\"] = pd.to_numeric(cars[\"horsepower\"], errors='coerce')\n",
    "# drop the Nan\n",
    "cars = cars.dropna().reset_index(drop = True)"
   ]
  },
  {
   "cell_type": "code",
   "execution_count": 13,
   "metadata": {},
   "outputs": [
    {
     "data": {
      "text/plain": [
       "(194, 4501)"
      ]
     },
     "execution_count": 13,
     "metadata": {},
     "output_type": "execute_result"
    }
   ],
   "source": [
    "# dimention of table\n",
    "meta.shape"
   ]
  },
  {
   "cell_type": "code",
   "execution_count": 16,
   "metadata": {},
   "outputs": [
    {
     "data": {
      "text/plain": [
       "mpg             float64\n",
       "cylinders         int64\n",
       "displacement    float64\n",
       "horsepower      float64\n",
       "weight          float64\n",
       "acceleration    float64\n",
       "model_year        int64\n",
       "origin            int64\n",
       "car_name         object\n",
       "dtype: object"
      ]
     },
     "execution_count": 16,
     "metadata": {},
     "output_type": "execute_result"
    }
   ],
   "source": [
    "# type of variables\n",
    "cars.dtypes"
   ]
  },
  {
   "cell_type": "code",
   "execution_count": null,
   "metadata": {},
   "outputs": [],
   "source": [
    "# change types of column\n",
    "# convert all DataFrame columns to the int64 dtype\n",
    "df = df.astype(int)\n",
    "\n",
    "# convert column \"a\" to int64 dtype and \"b\" to complex type\n",
    "df = df.astype({\"a\": int, \"b\": complex})\n",
    "\n",
    "\n",
    "df['MeanTemperatureCT']= df['MeanTemperatureCT'].astype(str)"
   ]
  },
  {
   "cell_type": "code",
   "execution_count": 14,
   "metadata": {},
   "outputs": [
    {
     "data": {
      "text/plain": [
       "mpg             0\n",
       "cylinders       0\n",
       "displacement    0\n",
       "horsepower      6\n",
       "weight          0\n",
       "acceleration    0\n",
       "model_year      0\n",
       "origin          0\n",
       "car_name        0\n",
       "dtype: int64"
      ]
     },
     "execution_count": 14,
     "metadata": {},
     "output_type": "execute_result"
    }
   ],
   "source": [
    "cars.isna().sum()"
   ]
  },
  {
   "cell_type": "code",
   "execution_count": null,
   "metadata": {},
   "outputs": [],
   "source": [
    "# like pair in r\n",
    "sns.set(style=\"ticks\")\n",
    "\n",
    "sns.pairplot(cars[cars.columns.difference([\"mpg\",\"car_name\"])],\n",
    "             hue=\"mpg_level\", palette=\"husl\", diag_kind = \"hist\",\n",
    "             diag_kws = {\"color\": 'lightblue', 'edgecolor':'lightblue',\"linewidth\":1})"
   ]
  },
  {
   "cell_type": "code",
   "execution_count": null,
   "metadata": {},
   "outputs": [],
   "source": [
    "# transpose\n",
    "x1 = np.array([x]).T"
   ]
  },
  {
   "cell_type": "code",
   "execution_count": 15,
   "metadata": {},
   "outputs": [],
   "source": [
    "?np.where"
   ]
  },
  {
   "cell_type": "code",
   "execution_count": null,
   "metadata": {},
   "outputs": [],
   "source": [
    "# tolist\n",
    "meta.columns.tolist()"
   ]
  },
  {
   "cell_type": "code",
   "execution_count": 24,
   "metadata": {},
   "outputs": [
    {
     "data": {
      "text/plain": [
       "Index(['GenePerturbed', 'ID', 'Strain', 'Stress'], dtype='object')"
      ]
     },
     "execution_count": 24,
     "metadata": {},
     "output_type": "execute_result"
    }
   ],
   "source": [
    "# filter out different columns\n",
    "meta.iloc[:,:6].columns.difference(['Medium','GrowthRate'])"
   ]
  },
  {
   "cell_type": "code",
   "execution_count": null,
   "metadata": {},
   "outputs": [],
   "source": [
    "# check Nulls\n",
    "df.isnull().sum()"
   ]
  },
  {
   "cell_type": "code",
   "execution_count": null,
   "metadata": {},
   "outputs": [],
   "source": [
    "# like groupby in SQL\n",
    "df.groupby(['class']).size()"
   ]
  },
  {
   "cell_type": "code",
   "execution_count": null,
   "metadata": {},
   "outputs": [],
   "source": [
    "# append by rows (axis = 0) or columns (axis = 1)\n",
    "np.append(self.X, self.x1 ** i,axis = 1)\n",
    "# matrix multiply\n",
    "np.matmul(np.matmul(inv(np.matmul(self.X.T,self.X)), self.X.T),self.y)\n",
    "# calculate average and so on\n",
    "np.average((y_tr.values-y_hat)**2)\n",
    "np.std()"
   ]
  },
  {
   "cell_type": "code",
   "execution_count": null,
   "metadata": {},
   "outputs": [],
   "source": [
    "# list comprehension\n",
    "[i in [m.lower() for m in agency.agencyname] for i in \\\n",
    " [reduce(lambda x,y: x+y, j.lower().split()) for j in gsa.iloc[8,37:][~gsa.iloc[:,37:].isnull().iloc[8,:]]]]"
   ]
  },
  {
   "cell_type": "code",
   "execution_count": null,
   "metadata": {},
   "outputs": [],
   "source": [
    "\"\"\"\n",
    "Training and Test set split\n",
    "Split the data into training set(200/392) and testing set(192/392)\n",
    "\"\"\"\n",
    "from sklearn.model_selection import train_test_split\n",
    "\n",
    "train, test = train_test_split(cars, test_size = 192/392, random_state = 1)\n",
    "\n",
    "## get the train and test data set\n",
    "X_tr = train[train.columns.difference(['mpg','car_name','mpg_level'])]\n",
    "y_tr = train.loc[:, 'mpg']\n",
    "y_tr_log = train.loc[:, 'mpg_level']\n",
    "\n",
    "X_te = test[test.columns.difference(['mpg','car_name','mpg_level'])]\n",
    "y_te = test.loc[:, 'mpg']\n",
    "y_te_log = test.loc[:, 'mpg_level']"
   ]
  },
  {
   "cell_type": "code",
   "execution_count": 19,
   "metadata": {},
   "outputs": [
    {
     "data": {
      "text/plain": [
       "[0, 0, 0, 1, 1, 0, 1, 1, 2, 0, 2, 1, 3, 0, 3, 1]"
      ]
     },
     "execution_count": 19,
     "metadata": {},
     "output_type": "execute_result"
    }
   ],
   "source": [
    "# list\n",
    "position =[]\n",
    "# list append\n",
    "for i in range(0,4):\n",
    "    for j in range(0,2):\n",
    "        position.append(i)\n",
    "        position.append(j)\n",
    "        \n",
    "position"
   ]
  },
  {
   "cell_type": "code",
   "execution_count": null,
   "metadata": {},
   "outputs": [],
   "source": [
    "# sql\n",
    "\n",
    "\n",
    "# numpy\n",
    "# append\n",
    "# multiple\n",
    "# \n",
    "\n",
    "\n",
    "# pandas\n",
    "# create dataframe\n",
    "pd.DataFrame(lst_in_list)\n",
    "df.transpose()\n",
    "\n",
    "pd.DataFrame({'MSE_train':MSE_tr_X, 'MSE_test':MSE_te_X})\n",
    "# append by row(axis = 0) or column (axis = 1)\n",
    "pd.concat([df_a,df_b], axis=1)\n",
    "# .iloc .loc\n",
    "# \n",
    "\n",
    "\n",
    "# train test split"
   ]
  },
  {
   "cell_type": "code",
   "execution_count": 21,
   "metadata": {},
   "outputs": [
    {
     "data": {
      "text/html": [
       "<div>\n",
       "<style scoped>\n",
       "    .dataframe tbody tr th:only-of-type {\n",
       "        vertical-align: middle;\n",
       "    }\n",
       "\n",
       "    .dataframe tbody tr th {\n",
       "        vertical-align: top;\n",
       "    }\n",
       "\n",
       "    .dataframe thead th {\n",
       "        text-align: right;\n",
       "    }\n",
       "</style>\n",
       "<table border=\"1\" class=\"dataframe\">\n",
       "  <thead>\n",
       "    <tr style=\"text-align: right;\">\n",
       "      <th></th>\n",
       "      <th>a</th>\n",
       "      <th>b</th>\n",
       "      <th>c</th>\n",
       "      <th>d</th>\n",
       "      <th>e</th>\n",
       "    </tr>\n",
       "  </thead>\n",
       "  <tbody>\n",
       "    <tr>\n",
       "      <th>0</th>\n",
       "      <td>8</td>\n",
       "      <td>5</td>\n",
       "      <td>0</td>\n",
       "      <td>8</td>\n",
       "      <td>4</td>\n",
       "    </tr>\n",
       "    <tr>\n",
       "      <th>1</th>\n",
       "      <td>1</td>\n",
       "      <td>0</td>\n",
       "      <td>0</td>\n",
       "      <td>3</td>\n",
       "      <td>4</td>\n",
       "    </tr>\n",
       "    <tr>\n",
       "      <th>2</th>\n",
       "      <td>8</td>\n",
       "      <td>0</td>\n",
       "      <td>1</td>\n",
       "      <td>0</td>\n",
       "      <td>3</td>\n",
       "    </tr>\n",
       "    <tr>\n",
       "      <th>3</th>\n",
       "      <td>4</td>\n",
       "      <td>2</td>\n",
       "      <td>1</td>\n",
       "      <td>4</td>\n",
       "      <td>3</td>\n",
       "    </tr>\n",
       "    <tr>\n",
       "      <th>4</th>\n",
       "      <td>0</td>\n",
       "      <td>8</td>\n",
       "      <td>6</td>\n",
       "      <td>8</td>\n",
       "      <td>1</td>\n",
       "    </tr>\n",
       "  </tbody>\n",
       "</table>\n",
       "</div>"
      ],
      "text/plain": [
       "   a  b  c  d  e\n",
       "0  8  5  0  8  4\n",
       "1  1  0  0  3  4\n",
       "2  8  0  1  0  3\n",
       "3  4  2  1  4  3\n",
       "4  0  8  6  8  1"
      ]
     },
     "execution_count": 21,
     "metadata": {},
     "output_type": "execute_result"
    }
   ],
   "source": [
    "df2 = pd.DataFrame(np.random.randint(low=0, high=10, size=(5, 5)),\n",
    "                   columns=['a', 'b', 'c', 'd', 'e'])\n",
    "df2"
   ]
  },
  {
   "cell_type": "code",
   "execution_count": null,
   "metadata": {},
   "outputs": [],
   "source": [
    "# logistic regression\n",
    "from sklearn.linear_model import LogisticRegression\n",
    "Logreg = LogisticRegression()\n",
    "Logreg.fit(X_tr.values,y_tr_log.values)"
   ]
  },
  {
   "cell_type": "code",
   "execution_count": null,
   "metadata": {},
   "outputs": [],
   "source": [
    "y_pred_log = Logreg.predict(X_te.values)"
   ]
  },
  {
   "cell_type": "code",
   "execution_count": null,
   "metadata": {},
   "outputs": [],
   "source": [
    "# Logreg.score\n",
    "print('Accuracy of logistic regression classifier on training set: {:.10f}'.\n",
    "      format(Logreg.score(X_tr.values, y_tr_log.values)))\n",
    "print('Accuracy of logistic regression classifier on test set: {:.10f}'.\n",
    "      format(Logreg.score(X_te.values, y_te_log.values)))"
   ]
  }
 ],
 "metadata": {
  "kernelspec": {
   "display_name": "Python 3",
   "language": "python",
   "name": "python3"
  },
  "language_info": {
   "codemirror_mode": {
    "name": "ipython",
    "version": 3
   },
   "file_extension": ".py",
   "mimetype": "text/x-python",
   "name": "python",
   "nbconvert_exporter": "python",
   "pygments_lexer": "ipython3",
   "version": "3.7.0"
  }
 },
 "nbformat": 4,
 "nbformat_minor": 2
}
